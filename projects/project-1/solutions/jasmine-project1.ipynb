{
 "cells": [
  {
   "cell_type": "markdown",
   "metadata": {},
   "source": [
    "<img src=\"http://imgur.com/1ZcRyrc.png\" style=\"float: left; margin: 15px; height: 80px\">\n",
    "\n",
    "# Project 1\n",
    "\n",
    "### Building \"Pokemon Stay\"\n",
    "\n",
    "---\n",
    "You are an analyst at a \"scrappy\" online gaming company that specializes in remakes of last year's fads.\n",
    "\n",
    "Your boss, who runs the product development team, is convinced that Pokemon Go's fatal flaw was that you had to actually move around outside. She has design mock-ups for a new game called Pokemon Stay: in this version players still need to move, but just from website to website. Pokemon gyms are now popular online destinations, and catching Pokemon in the \"wild\" simply requires browsing the internet for hours in the comfort of your home.\n",
    "\n",
    "She wants you to program a prototype version of the game, and analyze the planned content to help the team calibrate the design."
   ]
  },
  {
   "cell_type": "markdown",
   "metadata": {},
   "source": [
    "#### Package imports\n",
    "\n",
    "The pprint package below is the only package imported here, and it's not even strictly required to do any of the project. Printing python variables and objects with pprint can help to format them in a \"prettier\" way."
   ]
  },
  {
   "cell_type": "code",
   "execution_count": 517,
   "metadata": {},
   "outputs": [],
   "source": [
    "from pprint import pprint\n",
    "import numpy as np\n",
    "import scipy.stats as stats\n",
    "import matplotlib.pyplot as plt\n",
    "%matplotlib inline"
   ]
  },
  {
   "cell_type": "markdown",
   "metadata": {},
   "source": [
    "<img src=\"http://imgur.com/l5NasQj.png\" style=\"float: left; margin: 25px 15px 0px 0px; height: 25px\">\n",
    "\n",
    "## 1. Defining a player\n",
    "\n",
    "---\n",
    "\n",
    "The player variables are:\n",
    "\n",
    "    player_id : id code unique to each player (integer)\n",
    "    player_name : entered name of the player (string)\n",
    "    time_played : number of time played the game in minutes (float)\n",
    "    player_pokemon: the player's captured pokemon (dictionary)\n",
    "    gyms_visited: ids of the gyms that a player has visited (list)\n",
    "    \n",
    "Create the components for a player object by defining each of these variables. The dictionary and list variables should just be defined as empty; you can use any (correctly typed) values for the others."
   ]
  },
  {
   "cell_type": "code",
   "execution_count": 518,
   "metadata": {},
   "outputs": [
    {
     "name": "stdout",
     "output_type": "stream",
     "text": [
      "<type 'int'>\n",
      "<type 'str'>\n",
      "<type 'float'>\n",
      "<type 'dict'>\n",
      "<type 'list'>\n"
     ]
    }
   ],
   "source": [
    "player_id = 1\n",
    "player_name = \"Jasmine\"\n",
    "time_played = 210.2\n",
    "player_pokemon = {}\n",
    "gyms_visited = []\n",
    "\n",
    "# check:\n",
    "print(type(player_id))\n",
    "print(type(player_name))\n",
    "print(type(time_played))\n",
    "print(type(player_pokemon))\n",
    "print(type(gyms_visited))"
   ]
  },
  {
   "cell_type": "markdown",
   "metadata": {},
   "source": [
    "<img src=\"http://imgur.com/l5NasQj.png\" style=\"float: left; margin: 25px 15px 0px 0px; height: 25px\">\n",
    "\n",
    "## 2. Defining \"gym\" locations\n",
    "\n",
    "---\n",
    "\n",
    "As the sole programmer, Pokemon Stay will have to start small. To begin, there will be 10 different gym location websites on the internet. The gym locations are:\n",
    "\n",
    "    1. 'reddit.com'\n",
    "    2. 'amazon.com'\n",
    "    3. 'twitter.com'\n",
    "    4. 'linkedin.com'\n",
    "    5. 'ebay.com'\n",
    "    6. 'netflix.com'\n",
    "    7. 'sporcle.com'\n",
    "    8. 'stackoverflow.com'\n",
    "    9. 'github.com'\n",
    "    10. 'quora.com'\n",
    "\n",
    "1. Set up a list of all the gym locations. This will be a list of strings.\n",
    "2. Append two of these locations to your player's list of visited gyms.\n",
    "3. Print the list."
   ]
  },
  {
   "cell_type": "code",
   "execution_count": 519,
   "metadata": {},
   "outputs": [
    {
     "name": "stdout",
     "output_type": "stream",
     "text": [
      "['reddit.com', 'amazon.com', 'twitter.com', 'linkedin.com', 'ebay.com', 'netflix.com', 'sporcle.com', 'stackoverflow.com', 'github.com', 'quora.com']\n",
      "['reddit.com', 'amazon.com']\n"
     ]
    }
   ],
   "source": [
    "# Set up a list of all the gym locations. This will be a list of strings.\n",
    "pokemon_gyms = [\n",
    "    'reddit.com',\n",
    "    'amazon.com',\n",
    "    'twitter.com',\n",
    "    'linkedin.com',\n",
    "    'ebay.com',\n",
    "    'netflix.com',\n",
    "    'sporcle.com',\n",
    "    'stackoverflow.com',\n",
    "    'github.com',\n",
    "    'quora.com'\n",
    "]\n",
    "\n",
    "# Append two of these locations to your player's list of visited gyms.\n",
    "gyms_visited.append(pokemon_gyms[0])\n",
    "gyms_visited.append(pokemon_gyms[1])\n",
    "\n",
    "# Print the list.\n",
    "print(gym_locations)\n",
    "print(gyms_visited)"
   ]
  },
  {
   "cell_type": "markdown",
   "metadata": {},
   "source": [
    "<img src=\"http://imgur.com/l5NasQj.png\" style=\"float: left; margin: 25px 15px 0px 0px; height: 25px\">\n",
    "\n",
    "## 3. Create a pokedex\n",
    "\n",
    "---\n",
    "\n",
    "We also need to create some pokemon to catch. Each pokemon will be defined by these variables:\n",
    "\n",
    "    pokemon_id : unique identifier for each pokemon (integer)\n",
    "    name : the name of the pokemon (string)\n",
    "    type : the category of pokemon (string)\n",
    "    hp : base hitpoints (integer)\n",
    "    attack : base attack (integer)\n",
    "    defense : base defense (integer)\n",
    "    special_attack : base special attack (integer)\n",
    "    special_defense : base sepecial defense (integer)\n",
    "    speed : base speed (integer)\n",
    "\n",
    "We are only going to create 3 different pokemon with these `pokemon_id` and `pokemon_name` values:\n",
    "\n",
    "    1 : 'charmander'\n",
    "    2 : 'squirtle'\n",
    "    3 : 'bulbasaur'\n",
    "\n",
    "Create a dictionary that will contain the pokemon. The keys of the dictionary will be the `pokemon_id` and the values will themselves dictionaries that contain the other pokemon variables. The structure of the pokedex dictionary will start like so:\n",
    "     \n",
    "     {\n",
    "         1: {\n",
    "                 'name':'charmander',\n",
    "                 'type':'fire',\n",
    "                 ...\n",
    "                 \n",
    "The `type` of charmander, squirtle, and bulbasaur should be `'fire'`, `'water'`, and `'poison'` respectively. The other values are up to you, make them anything you like!\n",
    "\n",
    "Print (or pretty print) the pokedex dictionary with the 3 pokemon."
   ]
  },
  {
   "cell_type": "code",
   "execution_count": 520,
   "metadata": {},
   "outputs": [
    {
     "name": "stdout",
     "output_type": "stream",
     "text": [
      "{1: {'attack': 52,\n",
      "     'defense': 43,\n",
      "     'hp': 39,\n",
      "     'name': 'charmander',\n",
      "     'special_attack': 60,\n",
      "     'special_defense': 50,\n",
      "     'speed': 65,\n",
      "     'type': 'fire'},\n",
      " 2: {'attack': 48,\n",
      "     'defense': 65,\n",
      "     'hp': 44,\n",
      "     'name': 'squirtle',\n",
      "     'special_attack': 50,\n",
      "     'special_defense': 64,\n",
      "     'speed': 43,\n",
      "     'type': 'water'},\n",
      " 3: {'attack': 49,\n",
      "     'defense': 49,\n",
      "     'hp': 45,\n",
      "     'name': 'bulbasaur',\n",
      "     'special_attack': 65,\n",
      "     'special_defense': 65,\n",
      "     'speed': 45,\n",
      "     'type': 'poison'}}\n"
     ]
    }
   ],
   "source": [
    "# Create a dictionary that will contain the pokemon\n",
    "pokedex = {\n",
    "    1: {\n",
    "        'name':'charmander',\n",
    "        'type':'fire',\n",
    "        'hp' : 39,\n",
    "        'attack' : 52,\n",
    "        'defense' : 43,\n",
    "        'special_attack' : 60,\n",
    "        'special_defense' : 50,\n",
    "        'speed' : 65\n",
    "        },\n",
    "    2: {\n",
    "        'name':'squirtle',\n",
    "        'type':'water',\n",
    "        'hp' : 44,\n",
    "        'attack' : 48,\n",
    "        'defense' : 65,\n",
    "        'special_attack' : 50,\n",
    "        'special_defense' : 64,\n",
    "        'speed' : 43\n",
    "      },\n",
    "    3: {\n",
    "        'name':'bulbasaur',\n",
    "        'type':'poison',\n",
    "        'hp' : 45,\n",
    "        'attack' : 49,\n",
    "        'defense' : 49,\n",
    "        'special_attack' : 65,\n",
    "        'special_defense' : 65,\n",
    "        'speed' : 45\n",
    "      }\n",
    "    }\n",
    "\n",
    "# Print (or pretty print) the pokedex dictionary with the 3 pokemon\n",
    "pprint(pokedex)"
   ]
  },
  {
   "cell_type": "markdown",
   "metadata": {},
   "source": [
    "<img src=\"http://imgur.com/l5NasQj.png\" style=\"float: left; margin: 25px 15px 0px 0px; height: 25px\">\n",
    "\n",
    "## 4. Create a data structure for players\n",
    "\n",
    "---\n",
    "\n",
    "### 4.1 \n",
    "\n",
    "In order to maintain a database of multiple players, create a dictionary that keeps track of players indexed by `player_id`. \n",
    "\n",
    "The keys of the dictionary will be `player_id` and values will be dictionaries containing each player's variables (from question 1). \n",
    "\n",
    "Construct the `players` dictionary and insert the player that you defined in question 1, then print `players`."
   ]
  },
  {
   "cell_type": "code",
   "execution_count": 521,
   "metadata": {},
   "outputs": [
    {
     "name": "stdout",
     "output_type": "stream",
     "text": [
      "{1: {'gyms_visited': ['reddit.com', 'amazon.com'],\n",
      "     'player_name': 'Jasmine',\n",
      "     'player_pokemon': {},\n",
      "     'time_played': 210.2}}\n"
     ]
    }
   ],
   "source": [
    "# Construct the players dictionary and insert the player that you defined in question 1\n",
    "players = {\n",
    "    1: {\n",
    "        \"player_name\": player_name,\n",
    "        \"time_played\": time_played,\n",
    "        \"player_pokemon\": player_pokemon,\n",
    "        \"gyms_visited\": gyms_visited\n",
    "    }\n",
    "}\n",
    "\n",
    "# print players\n",
    "pprint(players)"
   ]
  },
  {
   "cell_type": "markdown",
   "metadata": {},
   "source": [
    "---\n",
    "\n",
    "### 4.2\n",
    "\n",
    "Create a new player with `player_id = 2` in the `players` dictionary. Leave the `'player_pokemon'` dictionary empty. Append `'alcatraz'` and `'pacific_beach'` to the `'gyms_visited'` list for player 2.\n",
    "\n",
    "The `'player_name'` and `'time_played'` values are up to you, but must be a string and float, respectively.\n",
    "\n",
    "Remember, the player_id is the key for the player in the players dictionary.\n",
    "\n",
    "Print the `players` dictionary with the new player inserted."
   ]
  },
  {
   "cell_type": "code",
   "execution_count": 522,
   "metadata": {},
   "outputs": [
    {
     "name": "stdout",
     "output_type": "stream",
     "text": [
      "{1: {'gyms_visited': ['reddit.com', 'amazon.com'],\n",
      "     'player_name': 'Jasmine',\n",
      "     'player_pokemon': {},\n",
      "     'time_played': 210.2},\n",
      " 2: {'gyms_visited': ['alcatraz', 'pacific_beach'],\n",
      "     'player_name': 'Elaine',\n",
      "     'player_pokemon': {},\n",
      "     'time_played': 301.1}}\n"
     ]
    }
   ],
   "source": [
    "# Create a new player with player_id = 2 in the players dictionary. Leave the 'player_pokemon' dictionary empty. \n",
    "players[2] = {\n",
    "    'player_name': \"Elaine\",\n",
    "    'time_played': 301.1,\n",
    "    'player_pokemon': {},\n",
    "    'gyms_visited': []\n",
    "}\n",
    "\n",
    "# Append 'alcatraz' and 'pacific_beach' to the 'gyms_visited' list for player 2\n",
    "players[2]['gyms_visited'].append('alcatraz')\n",
    "players[2]['gyms_visited'].append('pacific_beach')\n",
    "\n",
    "# Print the players dictionary\n",
    "pprint(players)"
   ]
  },
  {
   "cell_type": "markdown",
   "metadata": {},
   "source": [
    "<img src=\"http://imgur.com/l5NasQj.png\" style=\"float: left; margin: 25px 15px 0px 0px; height: 25px\">\n",
    "\n",
    "## 5. Add captured pokemon for each player\n",
    "\n",
    "---\n",
    "\n",
    "The `'player_pokemon'` keyed dictionaries for each player keep track of which of the pokemon each player has.\n",
    "\n",
    "The keys of the `'player_pokemon'` dictionaries are the pokemon ids that correspond to the ids in the `pokedex` dictionary you created earlier. The values are integers specifying the stats for the pokemon.\n",
    "\n",
    "Give player 1 a squirtle. Give player 2 charmander and a bulbasaur.\n",
    "\n",
    "Print the players dictionary after adding the pokemon for each player.\n"
   ]
  },
  {
   "cell_type": "code",
   "execution_count": 523,
   "metadata": {},
   "outputs": [
    {
     "name": "stdout",
     "output_type": "stream",
     "text": [
      "{1: {'gyms_visited': ['reddit.com', 'amazon.com'],\n",
      "     'player_name': 'Jasmine',\n",
      "     'player_pokemon': {2: {'attack': 48,\n",
      "                            'defense': 65,\n",
      "                            'hp': 44,\n",
      "                            'name': 'squirtle',\n",
      "                            'special_attack': 50,\n",
      "                            'special_defense': 64,\n",
      "                            'speed': 43,\n",
      "                            'type': 'water'}},\n",
      "     'time_played': 210.2},\n",
      " 2: {'gyms_visited': ['alcatraz', 'pacific_beach'],\n",
      "     'player_name': 'Elaine',\n",
      "     'player_pokemon': {1: {'attack': 52,\n",
      "                            'defense': 43,\n",
      "                            'hp': 39,\n",
      "                            'name': 'charmander',\n",
      "                            'special_attack': 60,\n",
      "                            'special_defense': 50,\n",
      "                            'speed': 65,\n",
      "                            'type': 'fire'},\n",
      "                        3: {'attack': 49,\n",
      "                            'defense': 49,\n",
      "                            'hp': 45,\n",
      "                            'name': 'bulbasaur',\n",
      "                            'special_attack': 65,\n",
      "                            'special_defense': 65,\n",
      "                            'speed': 45,\n",
      "                            'type': 'poison'}},\n",
      "     'time_played': 301.1}}\n"
     ]
    }
   ],
   "source": [
    "# Give player 1 a squirtle (id: 2)\n",
    "players[1]['player_pokemon'][2] = pokedex[2]\n",
    "\n",
    "# Give player 2 charmander (id: 1) and a bulbasaur (id: 3).\n",
    "players[2]['player_pokemon'][1] = pokedex[1]\n",
    "players[2]['player_pokemon'][3] = pokedex[3]\n",
    "\n",
    "# Print the players dictionary\n",
    "pprint(players)"
   ]
  },
  {
   "cell_type": "markdown",
   "metadata": {},
   "source": [
    "\n",
    "\n",
    "## 6. What gyms have players visited?\n",
    "\n",
    "---\n",
    "<img src=\"http://imgur.com/l5NasQj.png\" style=\"float: left; margin: 25px 15px 0px 0px; height: 25px\">\n",
    "### 6.1\n",
    "\n",
    "Write a for-loop that:\n",
    "\n",
    "1. Iterates through the `pokemon_gyms` list of gym locations you defined before.\n",
    "2. For each gym, iterate through each player in the `players` dictionary with a second, internal for-loop.\n",
    "3. If the player has visited the gym, print out \"[player] has visited [gym location].\", filling in [player] and [gym location] with the current player's name and current gym location."
   ]
  },
  {
   "cell_type": "code",
   "execution_count": 524,
   "metadata": {},
   "outputs": [
    {
     "name": "stdout",
     "output_type": "stream",
     "text": [
      "Jasmine has visited reddit.com\n",
      "Jasmine has visited amazon.com\n"
     ]
    }
   ],
   "source": [
    "for each_gym in pokemon_gyms:\n",
    "  for player_variables in players.values():\n",
    "    if each_gym in player_variables['gyms_visited']:\n",
    "      print(\"{} has visited {}\".format(player_variables['player_name'], each_gym))"
   ]
  },
  {
   "cell_type": "markdown",
   "metadata": {},
   "source": [
    "<img src=\"http://imgur.com/xDpSobf.png\" style=\"float: left; margin: 25px 15px 0px 0px; height: 25px\">\n",
    "### 6.2\n",
    "\n",
    "How many times did that loop run? If you have N gyms and also N players, how many times would it run as a function of N?\n",
    "\n",
    "Can you think of a more efficient way to accomplish the same thing? \n",
    "\n",
    "(You can write your answer as Markdown text.)"
   ]
  },
  {
   "cell_type": "code",
   "execution_count": 525,
   "metadata": {},
   "outputs": [
    {
     "name": "stdout",
     "output_type": "stream",
     "text": [
      "Loop in 6.1 runs 20 times.\n",
      "Jasmine has visited reddit.com\n",
      "Jasmine has visited amazon.com\n",
      "New loop runs 4 times.\n"
     ]
    }
   ],
   "source": [
    "# Answer: \n",
    "# The loop in 6.1 ran 10 * 2 = 20 times, since there are 10 items in the pokemon_gyms list and 2 items in the players dictionary.\n",
    "# If there are N gyms and N players, the loop would run N * N or N**2 times.\n",
    "\n",
    "# Check: Loop does indeed run 20 times\n",
    "iterations_count_one = 0\n",
    "\n",
    "for each_gym in pokemon_gyms:\n",
    "  for player_variables in players.values():\n",
    "    iterations_count_one += 1\n",
    "\n",
    "print(\"Loop in 6.1 runs {} times.\".format(iterations_count_one))\n",
    "\n",
    "# More efficient way: Loop through players dictionary instead, and then loop through player's visited gyms and check if the gyms are in the pokemon_gyms list.\n",
    "iterations_count_two = 0\n",
    "\n",
    "for player_variables in players.values():\n",
    "    for visited_gym in player_variables['gyms_visited']:\n",
    "        iterations_count_two += 1\n",
    "        if visited_gym in pokemon_gyms:\n",
    "            print(\"{} has visited {}\".format(player_variables['player_name'], visited_gym))\n",
    "            \n",
    "print(\"New loop runs {} times.\".format(iterations_count_two))"
   ]
  },
  {
   "cell_type": "markdown",
   "metadata": {},
   "source": [
    "<img src=\"http://imgur.com/l5NasQj.png\" style=\"float: left; margin: 25px 15px 0px 0px; height: 25px\">\n",
    "\n",
    "## 7. Calculate player \"power\".\n",
    "\n",
    "---\n",
    "\n",
    "Define a function that will calculate a player's \"power\". Player power is defined as the sum of the base statistics all of their pokemon.\n",
    "\n",
    "Your function will:\n",
    "\n",
    "1. Accept the `players` dictionary, `pokedex` dictionary, and a player_id as arguments.\n",
    "2. For the specified player_id, look up that player's pokemon and their level(s).\n",
    "3. Find and aggregate the attack and defense values for each of the player's pokemon from the `pokedex` dictionary.\n",
    "4. Print \"[player name]'s power is [player power].\", where the player power is the sum of the base statistics for all of their pokemon.\n",
    "5. Return the player's power value.\n",
    "\n",
    "Print out the pokemon power for each of your players."
   ]
  },
  {
   "cell_type": "code",
   "execution_count": 526,
   "metadata": {},
   "outputs": [
    {
     "name": "stdout",
     "output_type": "stream",
     "text": [
      "Jasmine's power is 113.\n",
      "Elaine's power is 193.\n"
     ]
    }
   ],
   "source": [
    "# Define a function that will calculate a player's \"power\"\n",
    "def calc_power(players_dict, pokedex_dict, player_id_int):\n",
    "    \"\"\"Calculates sum of the attack and defense values for all of the given player's pokemon.\"\"\"\n",
    "    players_pokemon_dict = players_dict[player_id_int]['player_pokemon']\n",
    "    player_power = 0\n",
    "    for pokemon_stats in players_pokemon_dict.values():\n",
    "        player_power += pokemon_stats['attack'] + pokemon_stats['defense']\n",
    "    print(\"{}'s power is {}.\".format(players_dict[player_id_int]['player_name'], player_power))\n",
    "    return player_power\n",
    "\n",
    "# Print out the pokemon power for each of your players\n",
    "for player_id in players.keys():\n",
    "    calc_power(players, pokedex, player_id)"
   ]
  },
  {
   "cell_type": "markdown",
   "metadata": {
    "collapsed": true
   },
   "source": [
    "<img src=\"http://imgur.com/l5NasQj.png\" style=\"float: left; margin: 25px 15px 0px 0px; height: 25px\">\n",
    "\n",
    "## 8. Load a pokedex file containing all the pokemon\n",
    "\n",
    "---\n",
    "\n",
    "### 8.1\n",
    "\n",
    "While you were putting together the prototype code, your colleagues were preparing a dataset of Pokemon and their attributes. (This was a rush job, so they may have picked some crazy values for some...)\n",
    "\n",
    "The code below loads information from a comma separated value (csv) file. You need to parse this string into a more useable format. The format of the string is:\n",
    "\n",
    "- Rows are separated by newline characters: \\n\n",
    "- Columns are separated by commas: ,\n",
    "- All cells in the csv are double quoted. Ex: \"PokedexNumber\" is the first cell of the first row.\n",
    "\n",
    "\n",
    "Using for-loops, create a list of lists where each list within the overall list is a row of the csv/matrix, and each element in that list is a cell in that row. Additional criteria:\n",
    "\n",
    "1. Quotes are removed from each cell item.\n",
    "2. Numeric column values are converted to floats.\n",
    "3. There are some cells that are empty and have no information. For these cells put a -1 value in place.\n",
    "\n",
    "Your end result is effectively a matrix. Each list in the outer list is a row, and the *j*th elements of list together form the *j*th column, which represents a data attribute. The first three lists in your pokedex list should look like this:\n",
    "\n",
    "    ['PokedexNumber', 'Name', 'Type', 'Total', 'HP', 'Attack', 'Defense', 'SpecialAttack', 'SpecialDefense', 'Speed']\n",
    "    [1.0, 'Bulbasaur', 'GrassPoison', 318.0, 45.0, 49.0, 49.0, 65.0, 65.0, 45.0]\n",
    "    [2.0, 'Ivysaur', 'GrassPoison', 405.0, 60.0, 62.0, 63.0, 80.0, 80.0, 60.0]"
   ]
  },
  {
   "cell_type": "code",
   "execution_count": 527,
   "metadata": {},
   "outputs": [],
   "source": [
    "# Code to read in pokedex info\n",
    "raw_pd = ''\n",
    "pokedex_file = 'pokedex_basic.csv'\n",
    "with open(pokedex_file, 'r') as f:\n",
    "    raw_pd = f.read()\n",
    "    \n",
    "# the pokedex string is assigned to the raw_pd variable\n",
    "# pprint(raw_pd)"
   ]
  },
  {
   "cell_type": "code",
   "execution_count": 528,
   "metadata": {},
   "outputs": [
    {
     "name": "stdout",
     "output_type": "stream",
     "text": [
      "[['PokedexNumber', 'Name', 'Type', 'Total', 'HP', 'Attack', 'Defense', 'SpecialAttack', 'SpecialDefense', 'Speed'], [1.0, 'Bulbasaur', 'GrassPoison', 318.0, 45.0, 49.0, 49.0, 65.0, 65.0, 45.0], [2.0, 'Ivysaur', 'GrassPoison', 405.0, 60.0, 62.0, 63.0, 80.0, 80.0, 60.0]]\n"
     ]
    }
   ],
   "source": [
    "# Remove double quotes:\n",
    "clean_pd = raw_pd.replace('\"', '')\n",
    "\n",
    "# Create list from string:\n",
    "pd_list = clean_pd.split(\"\\n\")\n",
    "\n",
    "# Create list of lists. Numeric items in nested list should be converted to float, and empty values replaced with -1.\n",
    "pd_matrix = []\n",
    "for each_row in pd_list:\n",
    "    row_list = []\n",
    "    for each_cell in each_row.split(\",\"):\n",
    "        try:\n",
    "            row_list.append(float(each_cell))\n",
    "        except:\n",
    "            if each_cell == '':\n",
    "                row_list.append(-1)\n",
    "            else:\n",
    "                row_list.append(each_cell) \n",
    "    pd_matrix.append(row_list)\n",
    "\n",
    "# Check:\n",
    "print(pd_matrix[:3])"
   ]
  },
  {
   "cell_type": "markdown",
   "metadata": {},
   "source": [
    "<img src=\"http://imgur.com/xDpSobf.png\" style=\"float: left; margin: 25px 15px 0px 0px; height: 25px\">\n",
    "\n",
    "### 8.2 Parse the raw pokedex with list comprehensions\n",
    "\n",
    "---\n",
    "\n",
    "Perform the same parsing as above, but **using only a single list comprehension** instead of for loops. You may have nested list comprehensions within the main list comprehension! The output should be exactly the same."
   ]
  },
  {
   "cell_type": "code",
   "execution_count": 529,
   "metadata": {},
   "outputs": [
    {
     "name": "stdout",
     "output_type": "stream",
     "text": [
      "[['PokedexNumber', 'Name', 'Type', 'Total', 'HP', 'Attack', 'Defense', 'SpecialAttack', 'SpecialDefense', 'Speed'], [1.0, 'Bulbasaur', 'GrassPoison', 318.0, 45.0, 49.0, 49.0, 65.0, 65.0, 45.0], [2.0, 'Ivysaur', 'GrassPoison', 405.0, 60.0, 62.0, 63.0, 80.0, 80.0, 60.0]]\n"
     ]
    }
   ],
   "source": [
    "pd_matrix_two = [[float(each_cell) if each_cell.isdigit() else -1 if each_cell == '' else each_cell for each_cell in each_row.split(\",\")] for each_row in pd_list]\n",
    "\n",
    "# Check:\n",
    "print(pd_matrix_two[:3])\n",
    "assert pd_matrix_two[:3] == pd_matrix[:3]"
   ]
  },
  {
   "cell_type": "markdown",
   "metadata": {},
   "source": [
    "<img src=\"http://imgur.com/l5NasQj.png\" style=\"float: left; margin: 25px 15px 0px 0px; height: 25px\">\n",
    "\n",
    "## 9. Write a function to generate the full pokedex\n",
    "\n",
    "---\n",
    "\n",
    "Write a function that recreates the pokedex you made before, but with the data read in from the full pokemon file. The `PokedexNumber` should be used as the `pokemon_id` key values for the dictionary of pokemon.\n",
    "\n",
    "Your function should:\n",
    "\n",
    "1. Take the parsed pokedex information you created above as an argument.\n",
    "2. Return a dictionary in the same format as your original pokedex you created before containing the information from the parsed full pokedex file.\n",
    "\n",
    "To test the function, print out the pokemon with id = 100."
   ]
  },
  {
   "cell_type": "code",
   "execution_count": 530,
   "metadata": {
    "scrolled": true
   },
   "outputs": [
    {
     "name": "stdout",
     "output_type": "stream",
     "text": [
      "800\n",
      "800\n",
      "{'Attack': 35.0, 'Defense': 30.0, 'Name': 'Gastly', 'SpecialAttack': 100.0, 'HP': 30.0, 'Total': 310.0, 'Type': 'GhostPoison', 'Speed': 80.0, 'SpecialDefense': 35.0}\n"
     ]
    }
   ],
   "source": [
    "def create_pokedex_dict(pd_matrix):\n",
    "    \"\"\"Returns pokedex in nested dictionary form from parsed pokedex (nested list).\"\"\"\n",
    "    pokedex = {}\n",
    "    unique_id_counter = 1\n",
    "    for each_pokemon in pd_matrix[1:]:\n",
    "        pokedex[unique_id_counter] = {\n",
    "            'Name': each_pokemon[1],\n",
    "            'Type': each_pokemon[2],\n",
    "            'Total': each_pokemon[3],\n",
    "            'HP': each_pokemon[4],\n",
    "            'Attack': each_pokemon[5],\n",
    "            'Defense': each_pokemon[6],\n",
    "            'SpecialAttack': each_pokemon[7],\n",
    "            'SpecialDefense': each_pokemon[8],\n",
    "            'Speed': each_pokemon[9]\n",
    "            }\n",
    "        unique_id_counter += 1\n",
    "    return pokedex\n",
    " \n",
    "# Check:\n",
    "pokedex_dict = create_pokedex_dict(pd_matrix)\n",
    "print(len(pd_matrix[1:]))\n",
    "print(len(pokedex_dict))\n",
    "print(pokedex_dict[100])\n",
    "# Note: The IDs for the Pokemon in the Pokedex dictionary is different from that in the CSV file because the 'pokedexnumber' in the CSV file is not unique. e.g. Venusaur and Mega Venusaur both have IDs of 003.\n",
    "# As a result of this descrepancy, 'Gastly' is the Pokemon with an ID of 100 in the Pokedex, instead of 'Voltorb'."
   ]
  },
  {
   "cell_type": "markdown",
   "metadata": {},
   "source": [
    "<img src=\"http://i.imgur.com/GCAf1UX.png\" style=\"float: left; margin: 25px 15px 0px 0px; height: 25px\">\n",
    "\n",
    "## 10. Write a function to generate a \"filtered\" pokedex\n",
    "---\n",
    "Your function should:\n",
    "1. Take the parsed pokedex information you created above as an argument.\n",
    "1. Take a dictionary as a parameter with keys matching the features of the Pokedex, filtering by exact match for string type values, and/or filter continuous variables specified value that is greater than or equal to the dictionary key parameter.\n",
    "1. Return multiple elements from the Pokedex\n",
    "\n",
    "Example:\n",
    "\n",
    "```python\n",
    "\n",
    "# Only filter based on parameters passed\n",
    "filter_options = {\n",
    "    'Attack':   25,\n",
    "    'Defense':  30,\n",
    "    'Type':     'Electric'\n",
    "}\n",
    "\n",
    "# Return records with attack >= 24, defense >= 30, and type == \"Electric\"\n",
    "# Also anticipate that other paramters can also be passed such as \"SpecialAttack\", \"Speed\", etc.\n",
    "filtered_pokedex(pokedex_data, filter=filter_options)\n",
    "\n",
    "# Example output:\n",
    "# [{'Attack': 30.0,\n",
    "#  'Defense': 50.0,\n",
    "#  'HP': 40.0,\n",
    "#  'Name': 'Voltorb',\n",
    "#  'SpecialAttack': 55.0,\n",
    "#  'SpecialDefense': 55.0,\n",
    "#  'Speed': 100.0,\n",
    "#  'Total': 330.0,\n",
    "#  'Type': 'Electric'},\n",
    "#  {'Attack': 30.0,\n",
    "#  'Defense': 33.0,\n",
    "#  'HP': 32.0,\n",
    "#  'Name': 'Pikachu',\n",
    "#  'SpecialAttack': 55.0,\n",
    "#  'SpecialDefense': 55.0,\n",
    "#  'Speed': 100.0,\n",
    "#  'Total': 330.0,\n",
    "#  'Type': 'Electric'},\n",
    "#  ... etc\n",
    "#  ]\n",
    "\n",
    "```\n",
    "\n"
   ]
  },
  {
   "cell_type": "code",
   "execution_count": 531,
   "metadata": {},
   "outputs": [
    {
     "name": "stdout",
     "output_type": "stream",
     "text": [
      "[{'Attack': 75.0,\n",
      "  'Defense': 85.0,\n",
      "  'HP': 90.0,\n",
      "  'Name': 'Ampharos',\n",
      "  'SpecialAttack': 115.0,\n",
      "  'SpecialDefense': 90.0,\n",
      "  'Speed': 55.0,\n",
      "  'Total': 510.0,\n",
      "  'Type': 'Electric'},\n",
      " {'Attack': 115.0,\n",
      "  'Defense': 80.0,\n",
      "  'HP': 85.0,\n",
      "  'Name': 'Eelektross',\n",
      "  'SpecialAttack': 105.0,\n",
      "  'SpecialDefense': 80.0,\n",
      "  'Speed': 50.0,\n",
      "  'Total': 515.0,\n",
      "  'Type': 'Electric'}]\n"
     ]
    }
   ],
   "source": [
    "def filter_pokedex(pokedex_dict, filter_dict):\n",
    "    \"\"\"Returns list of dict items corresponding to pokemon that have statistics greater than or equal to what is provided in the filter options (a dict).\"\"\"\n",
    "    \n",
    "    # Validate filtering criteria:\n",
    "    for criterion, value in filter_dict.items():\n",
    "        if criterion not in pokedex_dict[1].keys():\n",
    "            print(\"The filter attribute \\'{}\\' does not exist for the pokemon in the pokedex.\".format(criterion))\n",
    "            return None\n",
    "        if type(value) == int:\n",
    "            value = float(value)\n",
    "        if type(value) != type(pokedex_dict[1][criterion]):\n",
    "            print(\"The value of the filter attribute \\'{}\\' is {}, when it should be {}\".format(criterion, type(value), type(pokedex_dict[1][criterion])))\n",
    "            return None\n",
    "    \n",
    "    # Extract pokemon that match filter criteria to new list:\n",
    "    filtered_pokemon = []\n",
    "    for each_pokemon in pokedex_dict.values():\n",
    "        match =  True\n",
    "        for criterion, value in filter_dict.items():\n",
    "            if type(value) == str:\n",
    "                match = match and (each_pokemon[criterion].lower() == value.lower())\n",
    "            elif type(value) == float or type(value) == int:\n",
    "                match = match and (each_pokemon[criterion] >= value)\n",
    "        if match:\n",
    "            filtered_pokemon.append(each_pokemon)\n",
    "    return filtered_pokemon\n",
    "\n",
    "        \n",
    "# Check:\n",
    "filter_options = {\n",
    "    'Attack':   30,\n",
    "    'Defense':  80,\n",
    "    'Type':     'Electric',\n",
    "    'HP': 80\n",
    "}\n",
    "\n",
    "pprint(filter_pokedex(pokedex_dict, filter_options))\n"
   ]
  },
  {
   "cell_type": "markdown",
   "metadata": {
    "collapsed": true
   },
   "source": [
    "\n",
    "## 9. Descriptive statistics on the prototype pokedex\n",
    "\n",
    "<img src=\"http://imgur.com/l5NasQj.png\" style=\"float: left; margin: 25px 15px 0px 0px; height: 25px\">\n",
    "### 9.1\n",
    "\n",
    "What is the population mean and standard deviation of the \"Total\" attribute for all characters in the Pokedex?\n",
    "\n"
   ]
  },
  {
   "cell_type": "code",
   "execution_count": 532,
   "metadata": {},
   "outputs": [
    {
     "name": "stdout",
     "output_type": "stream",
     "text": [
      "Mean of \"Total\" attribute for all Pokemon: 435.1275\n",
      "Standard deviation: 119.962020005\n"
     ]
    }
   ],
   "source": [
    "totals_list = [each_pokemon['Total'] for each_pokemon in pokedex_dict.values()]\n",
    "print(\"Mean of \\\"Total\\\" attribute for all Pokemon: {}\".format(np.mean(totals_list)))\n",
    "print(\"Standard deviation: {}\".format(np.std(totals_list)))"
   ]
  },
  {
   "cell_type": "markdown",
   "metadata": {},
   "source": [
    "<img src=\"http://imgur.com/l5NasQj.png\" style=\"float: left; margin: 25px 15px 0px 0px; height: 25px\">\n",
    "### 9.2\n",
    "\n",
    "The game is no fun if the characters are wildly unbalanced! Are any characters \"overpowered\", which we'll define as having a \"Total\" more than three standard deviations from the population mean?"
   ]
  },
  {
   "cell_type": "code",
   "execution_count": 533,
   "metadata": {},
   "outputs": [
    {
     "name": "stdout",
     "output_type": "stream",
     "text": [
      "[{'Attack': 190.0, 'Defense': 100.0, 'Name': 'MewtwoMega Mewtwo X', 'SpecialAttack': 154.0, 'HP': 126.0, 'Total': 800.0, 'Type': 'PsychicFighting', 'Speed': 130.0, 'SpecialDefense': 100.0}]\n"
     ]
    }
   ],
   "source": [
    "overpowered_total = float(np.mean(totals_list) + 3 * np.std(totals_list))\n",
    "print(filter_pokedex(pokedex_dict, {'Total': overpowered_total }))"
   ]
  },
  {
   "cell_type": "markdown",
   "metadata": {},
   "source": [
    "<img src=\"http://imgur.com/xDpSobf.png\" style=\"float: left; margin: 25px 15px 0px 0px; height: 25px\">\n",
    "\n",
    "## 10. Calibrate the frequency of Pokemon\n",
    "\n",
    "The design team wants you to make the powerful Pokemon rare, and the weaklings more common. How would you set the probability $p_i$ of finding Pokemon *i* each time a player visits a gym?\n",
    "\n",
    "Write a function that takes in a Pokedex number and returns a value $p_i$ for that character.\n",
    "\n",
    "Hint: there are many ways you could do this. What do _you_ think makes sense? Start with simplifying assumptions: for example, you could assume that the probabilities of encountering any two Pokemon on one visit to a gym are independent of each other."
   ]
  },
  {
   "cell_type": "code",
   "execution_count": 534,
   "metadata": {},
   "outputs": [
    {
     "name": "stdout",
     "output_type": "stream",
     "text": [
      "0.5\n"
     ]
    },
    {
     "data": {
      "image/png": "[encoded data removed]",
      "text/plain": [
       "<matplotlib.figure.Figure at 0x108260710>"
      ]
     },
     "metadata": {},
     "output_type": "display_data"
    }
   ],
   "source": [
    "# Probability of finding Pokemon with ID = i should be inversely proportional to its total power:\n",
    "# => P(i) = k / pokedex_dict[i]['Total']\n",
    "\n",
    "# (Arbitrary) Assumptions\n",
    "# 1) The maximum number of Pokemon a player can find each time he/she visits a gym is 1 (Finding Pokemon are mutually exclusive). \n",
    "# 2) There is a 50% chance that a player finds a Pokemon when he/she visits a gym.\n",
    "# => The sum of the probabilities of finding Pokemon i is 1 * 50% = 0.5.\n",
    "\n",
    "probability_dict = {}\n",
    "for pokemon_id, pokemon_stats in pokedex_dict.items():\n",
    "    probability_dict[pokemon_id] = 1 / pokemon_stats['Total']\n",
    "probability_sum = sum(probability_dict.values())\n",
    "normalizing_coeff = 0.5 / probability_sum\n",
    "for pokemon_id, probability in probability_dict.items():\n",
    "    probability_dict[pokemon_id] = probability_dict[pokemon_id] * normalizing_coeff\n",
    "\n",
    "# Check that probabilities of finding Pokemon i sum to 0.5.\n",
    "print(sum(probability_dict.values()))\n",
    "\n",
    "def set_probability_pokemon(pokedex_num):\n",
    "    return probability_dict[pokedex_num]\n",
    "\n",
    "# Check that the probability of finding Venusaur (Total: 525, ID: 3) is lower than that of finding Bulbasaur (Total: 318, ID: 1):\n",
    "assert set_probability_pokemon(3) < set_probability_pokemon(1)\n",
    "\n",
    "# Check that the probability of finding Charizard (Total: 534, ID: 7) is lower than that of finding Venusaur (Total: 525, ID: 3):\n",
    "assert set_probability_pokemon(7) < set_probability_pokemon(3)\n",
    "\n",
    "# Check that the probability of finding Charmander (Total: 309, ID: 5) is higher than that of finding Bulbasaur (Total: 318, ID: 1):\n",
    "assert set_probability_pokemon(5) > set_probability_pokemon(1)\n",
    "\n",
    "# Plot the distribution of probabilities against the total powers of each Pokemon:\n",
    "plt.plot(totals_list, probability_dict.values(), marker='.', linestyle='None')\n",
    "plt.xlabel('Total Power of Pokemon')\n",
    "plt.ylabel('Probability of Finding Pokemon')\n",
    "plt.show()\n",
    "# => The higher the total power, the lower the probability of finding the Pokemon (the rarer it is)."
   ]
  }
 ],
 "metadata": {
  "anaconda-cloud": {},
  "kernelspec": {
   "display_name": "Python 3",
   "language": "python",
   "name": "python3"
  },
  "language_info": {
   "codemirror_mode": {
    "name": "ipython",
    "version": 3
   },
   "file_extension": ".py",
   "mimetype": "text/x-python",
   "name": "python",
   "nbconvert_exporter": "python",
   "pygments_lexer": "ipython3",
   "version": "3.6.5"
  }
 },
 "nbformat": 4,
 "nbformat_minor": 1
}
