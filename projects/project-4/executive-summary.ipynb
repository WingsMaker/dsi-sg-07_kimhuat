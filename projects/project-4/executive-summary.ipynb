{
 "cells": [
  {
   "cell_type": "markdown",
   "metadata": {
    "slideshow": {
     "slide_type": "slide"
    }
   },
   "source": [
    "# ![](https://ga-dash.s3.amazonaws.com/production/assets/logo-9f88ae6c9c3871690e33280fcf557f33.png) Project 4: Web Scraping Job Postings\n",
    "\n"
   ]
  },
  {
   "cell_type": "markdown",
   "metadata": {},
   "source": [
    "<a id='summary'></a>\n",
    "# Executive Summary"
   ]
  },
  {
   "cell_type": "markdown",
   "metadata": {},
   "source": [
    "### Background & Purpose: "
   ]
  },
  {
   "cell_type": "code",
   "execution_count": null,
   "metadata": {},
   "outputs": [],
   "source": [
    "We have little project to find out the job market in the data industry.\n",
    "What it takes was the job market related information in a specific country.\n",
    "To be more realistic, we take a look at the US market on the IT jobs.\n",
    "\n",
    "The objective is to leverage on data science to be competitive in USA hiring market. \n",
    "\n",
    "This analysis aim to identify factors which can:\n",
    "predict salary of data science related jobs\n",
    "distinguish data scientist based on job category classification.\n"
   ]
  },
  {
   "cell_type": "markdown",
   "metadata": {
    "slideshow": {
     "slide_type": "slide"
    }
   },
   "source": [
    "<a id='top'></a>\n",
    "<img src=\"https://s3.amazonaws.com/sr-marketplace-prod/wp-content/uploads/2015/08/indeed.jpg\" style=\"float: left; margin: 20px; height: 55px\">\n",
    "\n",
    "### Web Scraping from Indeed\n",
    "\n",
    "[Readme](readme.html)"
   ]
  },
  {
   "cell_type": "markdown",
   "metadata": {},
   "source": [
    "### Results and Analysis:"
   ]
  },
  {
   "cell_type": "code",
   "execution_count": null,
   "metadata": {},
   "outputs": [],
   "source": [
    "In the outcome of web scrapped job data, 85% of the data does not have complete information.\n",
    "Meaning only 15% of the records has salary range information.\n",
    "Some salary range were hourly rated which have influence over teh accuracy of the prediction.\n",
    "\n",
    "There is about 9% of the job in the original records indicating higher than average annual salary.\n",
    "With the machine learning model prediction on the salary for the 85% of missing records, \n",
    "we got great improvement. This ratio increased to 15%.\n",
    "Meaning 653 out of 4327 jobs indicating to have higher salary than average.\n",
    "\n"
   ]
  },
  {
   "cell_type": "code",
   "execution_count": null,
   "metadata": {},
   "outputs": [],
   "source": []
  },
  {
   "cell_type": "markdown",
   "metadata": {},
   "source": [
    "### Conclusion & Recommendations:"
   ]
  },
  {
   "cell_type": "code",
   "execution_count": null,
   "metadata": {},
   "outputs": [],
   "source": [
    "Conclusion:\n",
    "    This what the market paying for higher salary forl.\n",
    "    The X-factors : Job seniority, Education, Data Science Skills.\n",
    "\n",
    "Self-Reflection:\n",
    "    We could have done better in many aspects.\n",
    "\n",
    "    Firstly in the web scrapping stage, extract more information.\n",
    "Such as number of years experience, skillsets, knowledge, seniority.\n",
    "\n",
    "    Classification modeling will help to gain insights on accuracy, recall rates, AUC/ROC etc.\n",
    "    Simply doing the preddiction is never enough.\n",
    "\n",
    "    The amount of data is very limited, no point doing fine tuning of parameters.\n",
    "    Under this case, we can use better techniques like this one I am using now.\n",
    "\n",
    "    Problem and limitation, due to very low spec machine I used.\n",
    "    The Tensorflow model failed the middle of model-fitting. \n",
    "    I would recommend to use a better machine to get the tensorflow working.\n",
    "    Alternatively, we use LDA techiques when Tensorflow is not available.\n",
    "\n"
   ]
  },
  {
   "cell_type": "markdown",
   "metadata": {},
   "source": [
    "### Appendices:"
   ]
  },
  {
   "cell_type": "code",
   "execution_count": null,
   "metadata": {},
   "outputs": [],
   "source": [
    "Job site : https://www.indeed.com/l-United-States-jobs.html\n",
    "        "
   ]
  }
 ],
 "metadata": {
  "kernelspec": {
   "display_name": "Python 3",
   "language": "python",
   "name": "python3"
  },
  "language_info": {
   "codemirror_mode": {
    "name": "ipython",
    "version": 3
   },
   "file_extension": ".py",
   "mimetype": "text/x-python",
   "name": "python",
   "nbconvert_exporter": "python",
   "pygments_lexer": "ipython3",
   "version": "3.7.1"
  }
 },
 "nbformat": 4,
 "nbformat_minor": 2
}
